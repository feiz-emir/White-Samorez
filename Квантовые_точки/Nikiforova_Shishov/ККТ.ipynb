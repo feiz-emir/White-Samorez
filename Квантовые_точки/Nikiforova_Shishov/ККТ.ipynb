{
 "cells": [
  {
   "cell_type": "code",
   "execution_count": 2,
   "id": "bac16dcc-6828-47bb-9a13-ace31db3a4af",
   "metadata": {},
   "outputs": [],
   "source": [
    "import numpy as np"
   ]
  },
  {
   "cell_type": "code",
   "execution_count": 9,
   "id": "201df238-d128-4ee2-bb6f-637f4db4764b",
   "metadata": {},
   "outputs": [],
   "source": [
    "pi = 3.14159\n",
    "h = 6.6254\n",
    "me = 9.1086\n",
    "m_e = 0.24\n",
    "m_h = 0.45\n",
    "e = 1.601\n",
    "epsilon = 3.7\n",
    "epsilon0 = 8.855\n",
    "E_b = 3.4\n",
    "E = [4.00, 3.97, 3.82, 3.73, 3.53, 3.46, 3.41]"
   ]
  },
  {
   "cell_type": "code",
   "execution_count": 10,
   "id": "a6b5e9c6-f604-4b66-8381-2cb60f78d2e0",
   "metadata": {},
   "outputs": [],
   "source": [
    "def f(y):\n",
    "    s = 0\n",
    "    for i in range(len(a)):\n",
    "        s += a[i] * y ** (len(a) - (i + 1))\n",
    "    return s\n",
    "\n",
    "def df(y):\n",
    "        s = 0\n",
    "        for i in range(len(a)-1):\n",
    "            s += (len(a) - (i + 1)) * a[i] * y ** (len(a) - (i + 2))\n",
    "        return s"
   ]
  },
  {
   "cell_type": "code",
   "execution_count": 11,
   "id": "cf32c4e1-c219-462b-aeb5-1f16b38dba9f",
   "metadata": {},
   "outputs": [
    {
     "name": "stdout",
     "output_type": "stream",
     "text": [
      "[2.4039010791935533, -0.6999452171012349, -0.6384908231690553]\n",
      "2.9363250550343793\n",
      "[2.4039010791935533, -0.6999452171012349, -0.6084908231690555]\n",
      "2.988007546795656\n",
      "[2.4039010791935533, -0.6999452171012349, -0.4584908231690551]\n",
      "3.300677961230374\n",
      "[2.4039010791935533, -0.6999452171012349, -0.36849082316905524]\n",
      "3.550519792255626\n",
      "[2.4039010791935533, -0.6999452171012349, -0.16849082316905506]\n",
      "4.467073270689901\n",
      "[2.4039010791935533, -0.6999452171012349, -0.09849082316905522]\n",
      "5.064354975868335\n",
      "[2.4039010791935533, -0.6999452171012349, -0.04849082316905539]\n",
      "5.731093131517862\n"
     ]
    }
   ],
   "source": [
    "for i in E:\n",
    "    a0 = h ** 2 / (8 * me * e) * (1/m_e + 1/m_h)\n",
    "    a1 = -100 * 1.8 * e / (4 * pi * epsilon * epsilon0)\n",
    "    a2 = E_b - i - 10 ** 4 * 0.124 * e ** 3 * me / ((2 * h * epsilon * epsilon0) ** 2 * (1/m_e + 1/m_h))\n",
    "\n",
    "    a = [a0, a1, a2]\n",
    "    print(a)\n",
    "\n",
    "    a_abs = [abs(i) for i in a]\n",
    "    A = max(a_abs[1:])\n",
    "    B = max(a_abs[:2])\n",
    "\n",
    "    n0 = abs(a2) / (abs(a2) + B)\n",
    "    m0 = 1 + A / abs(a0)\n",
    "\n",
    "    k = 10\n",
    "\n",
    "    x = (m0 + n0)/2\n",
    "    for i in range(k):\n",
    "        x = x - f(x)/df(x)\n",
    "\n",
    "    print(2/x)"
   ]
  },
  {
   "cell_type": "code",
   "execution_count": null,
   "id": "ee9ca77e-e1c4-41ad-9664-0a3b75b1830f",
   "metadata": {},
   "outputs": [],
   "source": []
  }
 ],
 "metadata": {
  "kernelspec": {
   "display_name": "Python 3 (ipykernel)",
   "language": "python",
   "name": "python3"
  },
  "language_info": {
   "codemirror_mode": {
    "name": "ipython",
    "version": 3
   },
   "file_extension": ".py",
   "mimetype": "text/x-python",
   "name": "python",
   "nbconvert_exporter": "python",
   "pygments_lexer": "ipython3",
   "version": "3.11.7"
  }
 },
 "nbformat": 4,
 "nbformat_minor": 5
}
